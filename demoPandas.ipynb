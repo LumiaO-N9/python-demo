{
 "cells": [
  {
   "cell_type": "code",
   "execution_count": 1,
   "metadata": {},
   "outputs": [],
   "source": [
    "import pandas as pd"
   ]
  },
  {
   "cell_type": "code",
   "execution_count": 2,
   "metadata": {},
   "outputs": [],
   "source": [
    "s1 = pd.Series([1,2,3,4])"
   ]
  },
  {
   "cell_type": "code",
   "execution_count": 3,
   "metadata": {},
   "outputs": [
    {
     "name": "stdout",
     "output_type": "stream",
     "text": [
      "0    1\n",
      "1    2\n",
      "2    3\n",
      "3    4\n",
      "dtype: int64\n"
     ]
    }
   ],
   "source": [
    "print(s1)"
   ]
  },
  {
   "cell_type": "code",
   "execution_count": 5,
   "metadata": {},
   "outputs": [
    {
     "name": "stdout",
     "output_type": "stream",
     "text": [
      "a    3\n",
      "b    4\n",
      "c    5\n",
      "d    6\n",
      "dtype: int64\n"
     ]
    }
   ],
   "source": [
    "# Series 分为两个部分\n",
    "# 索引 和 数据\n",
    "# 创建的时候可以自己指定索引，如果不指定，则默认添加从0开始的索引\n",
    "s2 = pd.Series([3,4,5,6],index=list(\"abcd\"))\n",
    "print(s2)"
   ]
  },
  {
   "cell_type": "code",
   "execution_count": 6,
   "metadata": {},
   "outputs": [
    {
     "name": "stdout",
     "output_type": "stream",
     "text": [
      "1\n"
     ]
    }
   ],
   "source": [
    "print(s1[0])"
   ]
  },
  {
   "cell_type": "code",
   "execution_count": 7,
   "metadata": {},
   "outputs": [
    {
     "name": "stdout",
     "output_type": "stream",
     "text": [
      "3\n"
     ]
    }
   ],
   "source": [
    "print(s2[\"a\"])"
   ]
  },
  {
   "cell_type": "code",
   "execution_count": 8,
   "metadata": {},
   "outputs": [],
   "source": [
    "# 通过字典dict 创建Series\n",
    "dict1 = {\"a\":6,\"b\":7,\"c\":8,\"d\":9}\n",
    "s3 = pd.Series(dict1)"
   ]
  },
  {
   "cell_type": "code",
   "execution_count": 9,
   "metadata": {},
   "outputs": [
    {
     "name": "stdout",
     "output_type": "stream",
     "text": [
      "a    6\n",
      "b    7\n",
      "c    8\n",
      "d    9\n",
      "dtype: int64\n"
     ]
    }
   ],
   "source": [
    "print(s3)"
   ]
  },
  {
   "cell_type": "code",
   "execution_count": 10,
   "metadata": {},
   "outputs": [
    {
     "name": "stdout",
     "output_type": "stream",
     "text": [
      "a    6\n",
      "b    7\n",
      "dtype: int64\n"
     ]
    }
   ],
   "source": [
    "print(s3[0:2])"
   ]
  },
  {
   "cell_type": "code",
   "execution_count": 11,
   "metadata": {},
   "outputs": [
    {
     "name": "stdout",
     "output_type": "stream",
     "text": [
      "a    False\n",
      "b    False\n",
      "c    False\n",
      "d     True\n",
      "dtype: bool\n"
     ]
    }
   ],
   "source": [
    "print(s3>8)"
   ]
  },
  {
   "cell_type": "code",
   "execution_count": 12,
   "metadata": {},
   "outputs": [
    {
     "name": "stdout",
     "output_type": "stream",
     "text": [
      "d    9\n",
      "dtype: int64\n"
     ]
    }
   ],
   "source": [
    "print(s3[s3>8])"
   ]
  },
  {
   "cell_type": "code",
   "execution_count": 13,
   "metadata": {},
   "outputs": [
    {
     "name": "stdout",
     "output_type": "stream",
     "text": [
      "h    6\n",
      "i    7\n",
      "j    8\n",
      "k    9\n",
      "dtype: int64\n"
     ]
    }
   ],
   "source": [
    "# 替换索引\n",
    "s3.index=list(\"hijk\")\n",
    "print(s3)"
   ]
  },
  {
   "cell_type": "code",
   "execution_count": 14,
   "metadata": {},
   "outputs": [
    {
     "name": "stdout",
     "output_type": "stream",
     "text": [
      "       name  age\n",
      "0  zhangsan   26\n",
      "1      lisi   28\n",
      "2    wangwu   21\n"
     ]
    }
   ],
   "source": [
    "dict2 = {\n",
    "    \"name\":[\"zhangsan\",\"lisi\",\"wangwu\"],\n",
    "    \"age\":[26,28,21]\n",
    "}\n",
    "df1 = pd.DataFrame(dict2)\n",
    "print(df1)"
   ]
  },
  {
   "cell_type": "code",
   "execution_count": 15,
   "metadata": {},
   "outputs": [
    {
     "name": "stdout",
     "output_type": "stream",
     "text": [
      "0    zhangsan\n",
      "1        lisi\n",
      "2      wangwu\n",
      "Name: name, dtype: object\n"
     ]
    }
   ],
   "source": [
    "print(df1[\"name\"])"
   ]
  },
  {
   "cell_type": "code",
   "execution_count": 16,
   "metadata": {},
   "outputs": [
    {
     "name": "stdout",
     "output_type": "stream",
     "text": [
      "0     True\n",
      "1     True\n",
      "2    False\n",
      "Name: age, dtype: bool\n"
     ]
    }
   ],
   "source": [
    "print(df1[\"age\"]>22)"
   ]
  },
  {
   "cell_type": "code",
   "execution_count": 17,
   "metadata": {},
   "outputs": [
    {
     "name": "stdout",
     "output_type": "stream",
     "text": [
      "       name  age\n",
      "0  zhangsan   26\n",
      "1      lisi   28\n"
     ]
    }
   ],
   "source": [
    "print(df1[df1[\"age\"]>22])"
   ]
  },
  {
   "cell_type": "code",
   "execution_count": 20,
   "metadata": {},
   "outputs": [
    {
     "data": {
      "text/html": [
       "<div>\n",
       "<style scoped>\n",
       "    .dataframe tbody tr th:only-of-type {\n",
       "        vertical-align: middle;\n",
       "    }\n",
       "\n",
       "    .dataframe tbody tr th {\n",
       "        vertical-align: top;\n",
       "    }\n",
       "\n",
       "    .dataframe thead th {\n",
       "        text-align: right;\n",
       "    }\n",
       "</style>\n",
       "<table border=\"1\" class=\"dataframe\">\n",
       "  <thead>\n",
       "    <tr style=\"text-align: right;\">\n",
       "      <th></th>\n",
       "      <th>name</th>\n",
       "    </tr>\n",
       "  </thead>\n",
       "  <tbody>\n",
       "    <tr>\n",
       "      <th>0</th>\n",
       "      <td>zhangsan</td>\n",
       "    </tr>\n",
       "    <tr>\n",
       "      <th>1</th>\n",
       "      <td>lisi</td>\n",
       "    </tr>\n",
       "    <tr>\n",
       "      <th>2</th>\n",
       "      <td>wangwu</td>\n",
       "    </tr>\n",
       "  </tbody>\n",
       "</table>\n",
       "</div>"
      ],
      "text/plain": [
       "       name\n",
       "0  zhangsan\n",
       "1      lisi\n",
       "2    wangwu"
      ]
     },
     "execution_count": 20,
     "metadata": {},
     "output_type": "execute_result"
    }
   ],
   "source": [
    "df1.drop(\"age\",axis=1)"
   ]
  },
  {
   "cell_type": "code",
   "execution_count": 21,
   "metadata": {},
   "outputs": [
    {
     "name": "stdout",
     "output_type": "stream",
     "text": [
      "       name  age\n",
      "0  zhangsan   26\n",
      "1      lisi   28\n",
      "2    wangwu   21\n",
      "3         a   24\n",
      "4         b   22\n",
      "5         c   21\n",
      "6         d   20\n",
      "7         e   29\n"
     ]
    }
   ],
   "source": [
    "dict3 = {\n",
    "    \"name\":[\"zhangsan\",\"lisi\",\"wangwu\",\"a\",\"b\",\"c\",\"d\",\"e\"],\n",
    "    \"age\":[26,28,21,24,22,21,20,29]\n",
    "}\n",
    "df2 = pd.DataFrame(dict3)\n",
    "print(df2)"
   ]
  },
  {
   "cell_type": "code",
   "execution_count": 22,
   "metadata": {},
   "outputs": [
    {
     "name": "stdout",
     "output_type": "stream",
     "text": [
      "name    8\n",
      "age     8\n",
      "dtype: int64\n"
     ]
    }
   ],
   "source": [
    "print(df2.count())"
   ]
  },
  {
   "cell_type": "code",
   "execution_count": 29,
   "metadata": {},
   "outputs": [
    {
     "name": "stdout",
     "output_type": "stream",
     "text": [
      "29\n"
     ]
    }
   ],
   "source": [
    "print(df2[\"age\"].max())"
   ]
  },
  {
   "cell_type": "code",
   "execution_count": 30,
   "metadata": {},
   "outputs": [
    {
     "name": "stdout",
     "output_type": "stream",
     "text": [
      "             age\n",
      "count   8.000000\n",
      "mean   23.875000\n",
      "std     3.440826\n",
      "min    20.000000\n",
      "25%    21.000000\n",
      "50%    23.000000\n",
      "75%    26.500000\n",
      "max    29.000000\n"
     ]
    }
   ],
   "source": [
    "# 会自动帮我们计算 数据类型为数值的列 的 最大值 、最小值、count、方差......\n",
    "# \n",
    "print(df2.describe())"
   ]
  },
  {
   "cell_type": "code",
   "execution_count": 34,
   "metadata": {},
   "outputs": [
    {
     "name": "stdout",
     "output_type": "stream",
     "text": [
      "        age  weight\n",
      "age     1.0     NaN\n",
      "weight  NaN     NaN\n"
     ]
    }
   ],
   "source": [
    "dict3 = {\n",
    "    \"name\":[\"zhangsan\",\"lisi\",\"wangwu\",\"a\",\"b\",\"c\",\"d\",\"e\"],\n",
    "    \"age\":[21,22,23,24,25,26,27,28],\n",
    "    \"weight\":[130,130,130,130,130,130,130,130]\n",
    "}\n",
    "df3 = pd.DataFrame(dict3)\n",
    "print(df3.corr())"
   ]
  },
  {
   "cell_type": "code",
   "execution_count": 63,
   "metadata": {},
   "outputs": [],
   "source": [
    "sdf = pd.read_csv(\"data/students.csv\")"
   ]
  },
  {
   "cell_type": "code",
   "execution_count": 36,
   "metadata": {},
   "outputs": [
    {
     "data": {
      "text/html": [
       "<div>\n",
       "<style scoped>\n",
       "    .dataframe tbody tr th:only-of-type {\n",
       "        vertical-align: middle;\n",
       "    }\n",
       "\n",
       "    .dataframe tbody tr th {\n",
       "        vertical-align: top;\n",
       "    }\n",
       "\n",
       "    .dataframe thead th {\n",
       "        text-align: right;\n",
       "    }\n",
       "</style>\n",
       "<table border=\"1\" class=\"dataframe\">\n",
       "  <thead>\n",
       "    <tr style=\"text-align: right;\">\n",
       "      <th></th>\n",
       "      <th>id</th>\n",
       "      <th>name</th>\n",
       "      <th>age</th>\n",
       "      <th>gender</th>\n",
       "      <th>clazz</th>\n",
       "    </tr>\n",
       "  </thead>\n",
       "  <tbody>\n",
       "    <tr>\n",
       "      <th>0</th>\n",
       "      <td>1500100001</td>\n",
       "      <td>施笑槐</td>\n",
       "      <td>22</td>\n",
       "      <td>女</td>\n",
       "      <td>文科六班</td>\n",
       "    </tr>\n",
       "    <tr>\n",
       "      <th>1</th>\n",
       "      <td>1500100002</td>\n",
       "      <td>吕金鹏</td>\n",
       "      <td>24</td>\n",
       "      <td>男</td>\n",
       "      <td>文科六班</td>\n",
       "    </tr>\n",
       "    <tr>\n",
       "      <th>2</th>\n",
       "      <td>1500100003</td>\n",
       "      <td>单乐蕊</td>\n",
       "      <td>22</td>\n",
       "      <td>女</td>\n",
       "      <td>理科六班</td>\n",
       "    </tr>\n",
       "    <tr>\n",
       "      <th>3</th>\n",
       "      <td>1500100004</td>\n",
       "      <td>葛德曜</td>\n",
       "      <td>24</td>\n",
       "      <td>男</td>\n",
       "      <td>理科三班</td>\n",
       "    </tr>\n",
       "    <tr>\n",
       "      <th>4</th>\n",
       "      <td>1500100005</td>\n",
       "      <td>宣谷芹</td>\n",
       "      <td>22</td>\n",
       "      <td>女</td>\n",
       "      <td>理科五班</td>\n",
       "    </tr>\n",
       "  </tbody>\n",
       "</table>\n",
       "</div>"
      ],
      "text/plain": [
       "           id name  age gender clazz\n",
       "0  1500100001  施笑槐   22      女  文科六班\n",
       "1  1500100002  吕金鹏   24      男  文科六班\n",
       "2  1500100003  单乐蕊   22      女  理科六班\n",
       "3  1500100004  葛德曜   24      男  理科三班\n",
       "4  1500100005  宣谷芹   22      女  理科五班"
      ]
     },
     "execution_count": 36,
     "metadata": {},
     "output_type": "execute_result"
    }
   ],
   "source": [
    "sdf.head()"
   ]
  },
  {
   "cell_type": "code",
   "execution_count": 37,
   "metadata": {},
   "outputs": [
    {
     "data": {
      "text/html": [
       "<div>\n",
       "<style scoped>\n",
       "    .dataframe tbody tr th:only-of-type {\n",
       "        vertical-align: middle;\n",
       "    }\n",
       "\n",
       "    .dataframe tbody tr th {\n",
       "        vertical-align: top;\n",
       "    }\n",
       "\n",
       "    .dataframe thead th {\n",
       "        text-align: right;\n",
       "    }\n",
       "</style>\n",
       "<table border=\"1\" class=\"dataframe\">\n",
       "  <thead>\n",
       "    <tr style=\"text-align: right;\">\n",
       "      <th></th>\n",
       "      <th>id</th>\n",
       "      <th>name</th>\n",
       "      <th>age</th>\n",
       "      <th>gender</th>\n",
       "      <th>clazz</th>\n",
       "    </tr>\n",
       "  </thead>\n",
       "  <tbody>\n",
       "    <tr>\n",
       "      <th>995</th>\n",
       "      <td>1500100996</td>\n",
       "      <td>厉运凡</td>\n",
       "      <td>24</td>\n",
       "      <td>男</td>\n",
       "      <td>文科三班</td>\n",
       "    </tr>\n",
       "    <tr>\n",
       "      <th>996</th>\n",
       "      <td>1500100997</td>\n",
       "      <td>陶敬曦</td>\n",
       "      <td>21</td>\n",
       "      <td>男</td>\n",
       "      <td>理科六班</td>\n",
       "    </tr>\n",
       "    <tr>\n",
       "      <th>997</th>\n",
       "      <td>1500100998</td>\n",
       "      <td>容昆宇</td>\n",
       "      <td>22</td>\n",
       "      <td>男</td>\n",
       "      <td>理科四班</td>\n",
       "    </tr>\n",
       "    <tr>\n",
       "      <th>998</th>\n",
       "      <td>1500100999</td>\n",
       "      <td>钟绮晴</td>\n",
       "      <td>23</td>\n",
       "      <td>女</td>\n",
       "      <td>文科五班</td>\n",
       "    </tr>\n",
       "    <tr>\n",
       "      <th>999</th>\n",
       "      <td>1500101000</td>\n",
       "      <td>符瑞渊</td>\n",
       "      <td>23</td>\n",
       "      <td>男</td>\n",
       "      <td>理科六班</td>\n",
       "    </tr>\n",
       "  </tbody>\n",
       "</table>\n",
       "</div>"
      ],
      "text/plain": [
       "             id name  age gender clazz\n",
       "995  1500100996  厉运凡   24      男  文科三班\n",
       "996  1500100997  陶敬曦   21      男  理科六班\n",
       "997  1500100998  容昆宇   22      男  理科四班\n",
       "998  1500100999  钟绮晴   23      女  文科五班\n",
       "999  1500101000  符瑞渊   23      男  理科六班"
      ]
     },
     "execution_count": 37,
     "metadata": {},
     "output_type": "execute_result"
    }
   ],
   "source": [
    "sdf.tail()"
   ]
  },
  {
   "cell_type": "code",
   "execution_count": 38,
   "metadata": {},
   "outputs": [
    {
     "name": "stdout",
     "output_type": "stream",
     "text": [
      "             id name  age gender clazz\n",
      "1    1500100002  吕金鹏   24      男  文科六班\n",
      "3    1500100004  葛德曜   24      男  理科三班\n",
      "12   1500100013  逯君昊   24      男  文科二班\n",
      "18   1500100019  娄曦之   24      男  理科三班\n",
      "27   1500100028  幸浩邈   24      男  理科五班\n",
      "..          ...  ...  ...    ...   ...\n",
      "988  1500100989  柏盼香   24      女  理科六班\n",
      "991  1500100992  莫运盛   24      男  理科六班\n",
      "993  1500100994  相凌青   24      女  理科四班\n",
      "994  1500100995  寿芷卉   24      女  理科五班\n",
      "995  1500100996  厉运凡   24      男  文科三班\n",
      "\n",
      "[260 rows x 5 columns]\n"
     ]
    }
   ],
   "source": [
    "print(sdf[sdf[\"age\"]>23])"
   ]
  },
  {
   "cell_type": "code",
   "execution_count": 62,
   "metadata": {},
   "outputs": [
    {
     "name": "stdout",
     "output_type": "stream",
     "text": [
      "      student_id  score_id  score\n",
      "0     1500100001   1000001     98\n",
      "1     1500100001   1000002      5\n",
      "2     1500100001   1000003    137\n",
      "3     1500100001   1000004     29\n",
      "4     1500100001   1000005     85\n",
      "...          ...       ...    ...\n",
      "5995  1500101000   1000002     78\n",
      "5996  1500101000   1000003     81\n",
      "5997  1500101000   1000007      5\n",
      "5998  1500101000   1000008     87\n",
      "5999  1500101000   1000009     28\n",
      "\n",
      "[6000 rows x 3 columns]\n"
     ]
    }
   ],
   "source": [
    "scoreDF = pd.read_csv(\"data/score.txt\",header=None,names=[\"student_id\",\"score_id\",\"score\"],encoding=\"utf-8\")\n",
    "print(scoreDF)"
   ]
  },
  {
   "cell_type": "code",
   "execution_count": 64,
   "metadata": {},
   "outputs": [
    {
     "name": "stdout",
     "output_type": "stream",
     "text": [
      "RangeIndex(start=0, stop=1000, step=1)\n",
      "RangeIndex(start=0, stop=6000, step=1)\n",
      "             id name  age gender clazz\n",
      "0    1500100001  施笑槐   22      女  文科六班\n",
      "1    1500100002  吕金鹏   24      男  文科六班\n",
      "2    1500100003  单乐蕊   22      女  理科六班\n",
      "3    1500100004  葛德曜   24      男  理科三班\n",
      "4    1500100005  宣谷芹   22      女  理科五班\n",
      "..          ...  ...  ...    ...   ...\n",
      "995  1500100996  厉运凡   24      男  文科三班\n",
      "996  1500100997  陶敬曦   21      男  理科六班\n",
      "997  1500100998  容昆宇   22      男  理科四班\n",
      "998  1500100999  钟绮晴   23      女  文科五班\n",
      "999  1500101000  符瑞渊   23      男  理科六班\n",
      "\n",
      "[1000 rows x 5 columns]\n",
      "      student_id  score_id  score\n",
      "0     1500100001   1000001     98\n",
      "1     1500100001   1000002      5\n",
      "2     1500100001   1000003    137\n",
      "3     1500100001   1000004     29\n",
      "4     1500100001   1000005     85\n",
      "...          ...       ...    ...\n",
      "5995  1500101000   1000002     78\n",
      "5996  1500101000   1000003     81\n",
      "5997  1500101000   1000007      5\n",
      "5998  1500101000   1000008     87\n",
      "5999  1500101000   1000009     28\n",
      "\n",
      "[6000 rows x 3 columns]\n"
     ]
    }
   ],
   "source": [
    "\n",
    "# sdf.index=sdf[\"id\"]\n",
    "# scoreDF.index = scoreDF[\"id\"]\n",
    "print(sdf.index)\n",
    "print(scoreDF.index)\n",
    "print(sdf)\n",
    "print(scoreDF)\n",
    "\n"
   ]
  },
  {
   "cell_type": "code",
   "execution_count": 57,
   "metadata": {},
   "outputs": [
    {
     "name": "stdout",
     "output_type": "stream",
     "text": [
      "           name  age gender clazz  score_id  score\n",
      "id                                                \n",
      "1500100001  施笑槐   22      女  文科六班   1000001     98\n",
      "1500100001  施笑槐   22      女  文科六班   1000002      5\n",
      "1500100001  施笑槐   22      女  文科六班   1000003    137\n",
      "1500100001  施笑槐   22      女  文科六班   1000004     29\n",
      "1500100001  施笑槐   22      女  文科六班   1000005     85\n",
      "...         ...  ...    ...   ...       ...    ...\n",
      "1500101000  符瑞渊   23      男  理科六班   1000002     78\n",
      "1500101000  符瑞渊   23      男  理科六班   1000003     81\n",
      "1500101000  符瑞渊   23      男  理科六班   1000007      5\n",
      "1500101000  符瑞渊   23      男  理科六班   1000008     87\n",
      "1500101000  符瑞渊   23      男  理科六班   1000009     28\n",
      "\n",
      "[6000 rows x 6 columns]\n"
     ]
    }
   ],
   "source": [
    "# 使用 join 时 需要先用 set_index函数指定索引列，然后才能关联\n",
    "print(sdf.set_index(\"id\").join(scoreDF.set_index(\"id\")))"
   ]
  },
  {
   "cell_type": "code",
   "execution_count": 68,
   "metadata": {},
   "outputs": [
    {
     "name": "stdout",
     "output_type": "stream",
     "text": [
      "              id name  age gender clazz  student_id  score_id  score\n",
      "0     1500100001  施笑槐   22      女  文科六班  1500100001   1000001     98\n",
      "1     1500100001  施笑槐   22      女  文科六班  1500100001   1000002      5\n",
      "2     1500100001  施笑槐   22      女  文科六班  1500100001   1000003    137\n",
      "3     1500100001  施笑槐   22      女  文科六班  1500100001   1000004     29\n",
      "4     1500100001  施笑槐   22      女  文科六班  1500100001   1000005     85\n",
      "...          ...  ...  ...    ...   ...         ...       ...    ...\n",
      "5995  1500101000  符瑞渊   23      男  理科六班  1500101000   1000002     78\n",
      "5996  1500101000  符瑞渊   23      男  理科六班  1500101000   1000003     81\n",
      "5997  1500101000  符瑞渊   23      男  理科六班  1500101000   1000007      5\n",
      "5998  1500101000  符瑞渊   23      男  理科六班  1500101000   1000008     87\n",
      "5999  1500101000  符瑞渊   23      男  理科六班  1500101000   1000009     28\n",
      "\n",
      "[6000 rows x 8 columns]\n"
     ]
    }
   ],
   "source": [
    "joinDF = sdf.merge(scoreDF, left_on='id', right_on='student_id')\n",
    "print(joinDF)"
   ]
  },
  {
   "cell_type": "code",
   "execution_count": 72,
   "metadata": {},
   "outputs": [
    {
     "name": "stdout",
     "output_type": "stream",
     "text": [
      "id\n",
      "1500100001    406\n",
      "1500100002    440\n",
      "1500100003    359\n",
      "1500100004    421\n",
      "1500100005    395\n",
      "             ... \n",
      "1500100996    355\n",
      "1500100997    293\n",
      "1500100998    398\n",
      "1500100999    371\n",
      "1500101000    379\n",
      "Name: score, Length: 1000, dtype: int64\n"
     ]
    }
   ],
   "source": [
    "# 统计每个学生的总分\n",
    "print(joinDF.groupby(joinDF[\"id\"])[\"score\"].sum())\n",
    "resultDF = joinDF.groupby(joinDF[\"id\"])[\"score\"].sum()\n",
    "resultDF.to_csv(\"data/a.txt\")"
   ]
  },
  {
   "cell_type": "code",
   "execution_count": 73,
   "metadata": {},
   "outputs": [
    {
     "name": "stdout",
     "output_type": "stream",
     "text": [
      "             id name  age gender clazz\n",
      "0    1500100001  施笑槐   22      女  文科六班\n",
      "1    1500100002  吕金鹏   24      男  文科六班\n",
      "2    1500100003  单乐蕊   22      女  理科六班\n",
      "3    1500100004  葛德曜   24      男  理科三班\n",
      "4    1500100005  宣谷芹   22      女  理科五班\n",
      "..          ...  ...  ...    ...   ...\n",
      "995  1500100996  厉运凡   24      男  文科三班\n",
      "996  1500100997  陶敬曦   21      男  理科六班\n",
      "997  1500100998  容昆宇   22      男  理科四班\n",
      "998  1500100999  钟绮晴   23      女  文科五班\n",
      "999  1500101000  符瑞渊   23      男  理科六班\n",
      "\n",
      "[1000 rows x 5 columns]\n"
     ]
    }
   ],
   "source": [
    "# 统计每个班的人数\n",
    "print(sdf)"
   ]
  },
  {
   "cell_type": "code",
   "execution_count": 76,
   "metadata": {},
   "outputs": [
    {
     "name": "stdout",
     "output_type": "stream",
     "text": [
      "clazz\n",
      "文科一班     72\n",
      "文科三班     94\n",
      "文科二班     87\n",
      "文科五班     84\n",
      "文科六班    104\n",
      "文科四班     81\n",
      "理科一班     78\n",
      "理科三班     68\n",
      "理科二班     79\n",
      "理科五班     70\n",
      "理科六班     92\n",
      "理科四班     91\n",
      "Name: gender, dtype: int64\n",
      "clazz\n",
      "文科一班     72\n",
      "文科三班     94\n",
      "文科二班     87\n",
      "文科五班     84\n",
      "文科六班    104\n",
      "文科四班     81\n",
      "理科一班     78\n",
      "理科三班     68\n",
      "理科二班     79\n",
      "理科五班     70\n",
      "理科六班     92\n",
      "理科四班     91\n",
      "Name: gender, dtype: int64\n"
     ]
    }
   ],
   "source": [
    "print(sdf.groupby(sdf[\"clazz\"])[\"gender\"].count())\n",
    "print(sdf.groupby(sdf[\"clazz\"])[\"gender\"].agg(\"count\"))"
   ]
  },
  {
   "cell_type": "code",
   "execution_count": 77,
   "metadata": {},
   "outputs": [
    {
     "name": "stdout",
     "output_type": "stream",
     "text": [
      "24\n"
     ]
    }
   ],
   "source": [
    "print(sdf[\"age\"].max())"
   ]
  },
  {
   "cell_type": "code",
   "execution_count": null,
   "metadata": {},
   "outputs": [],
   "source": []
  }
 ],
 "metadata": {
  "kernelspec": {
   "display_name": "Python 3",
   "language": "python",
   "name": "python3"
  },
  "language_info": {
   "codemirror_mode": {
    "name": "ipython",
    "version": 3
   },
   "file_extension": ".py",
   "mimetype": "text/x-python",
   "name": "python",
   "nbconvert_exporter": "python",
   "pygments_lexer": "ipython3",
   "version": "3.7.7"
  }
 },
 "nbformat": 4,
 "nbformat_minor": 4
}
